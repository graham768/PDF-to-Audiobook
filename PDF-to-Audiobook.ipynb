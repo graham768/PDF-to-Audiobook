{
 "cells": [
  {
   "cell_type": "code",
   "execution_count": 6,
   "id": "cb88b3c1-2daf-4af2-a6c0-2ad610fb53c8",
   "metadata": {
    "tags": []
   },
   "outputs": [],
   "source": [
    "from pypdf import PdfReader\n",
    "from TTS.api import TTS\n",
    "import pysbd"
   ]
  },
  {
   "cell_type": "code",
   "execution_count": null,
   "id": "70a79336-2074-4088-b67f-e938941c4a85",
   "metadata": {
    "scrolled": true,
    "tags": []
   },
   "outputs": [],
   "source": [
    "book = \"The-Art-of-Living-a-Meaningless-Existence-Ideas-from-Philosophy-That-Change-the-Way-You-Think-Robert-Pantano-booktree.pdf\"\n",
    "reader = PdfReader(book)\n",
    "\n",
    "# Voice Examples:\n",
    "# https://huggingface.co/spaces/coqui/CoquiTTS\n",
    "# https://youtu.be/HojuVmW5LUI?t=563\n",
    "tts = TTS(model_name=\"tts_models/en/ljspeech/vits\", progress_bar=True, gpu=False)"
   ]
  },
  {
   "cell_type": "code",
   "execution_count": null,
   "id": "da9020e5-6b9c-4efc-8784-03abadefdb60",
   "metadata": {
    "scrolled": true,
    "tags": []
   },
   "outputs": [],
   "source": [
    "def debugger(text, cm, tm, font_dict, font_size):\n",
    "    print(text)\n",
    "    print(font_dict)\n",
    "    \n",
    "# Use debugger function to find details about your chapter title text (bold, larger font size, different font, etc.)\n",
    "for num in range(0,5):\n",
    "    reader.pages[num].extract_text(visitor_text=debugger)"
   ]
  },
  {
   "cell_type": "code",
   "execution_count": null,
   "id": "3fb0962f-77c2-460b-8023-57535978b887",
   "metadata": {
    "tags": []
   },
   "outputs": [],
   "source": [
    "title_parts = []\n",
    "def find_titles(text, cm, tm, font_dict, font_size):\n",
    "    # Sort out the unique details defining new chapters and titles here\n",
    "    if font_dict and font_dict['/BaseFont'] == '/AAAAAB+LiberationSans-Bold':\n",
    "        title_parts.append(text)\n",
    "\n",
    "\n",
    "current_chapter_text = ''\n",
    "chapter = 0\n",
    "for num in range(0,len(reader.pages)):\n",
    "    if chapter == 5:\n",
    "        break\n",
    "    current_chapter_text += reader.pages[num].extract_text(visitor_text=find_titles)\n",
    "    if title_parts:\n",
    "        title = \" \".join(title_parts).strip()\n",
    "        title_parts = []\n",
    "        chapter += 1\n",
    "        \n",
    "        # remove new lines to improve sentence boundary detection\n",
    "        sanitized_text = ' '.join(current_chapter_text.split('\\n'))\n",
    "        tts.tts_to_file(text=sanitized_text, file_path=f'audio/{chapter}-{title}.wav')\n",
    "        current_chapter_text = ''\n",
    "        print()\n",
    "        print(num, '-', title, end='\\n\\n')\n"
   ]
  }
 ],
 "metadata": {
  "kernelspec": {
   "display_name": "venv",
   "language": "python",
   "name": "venv"
  },
  "language_info": {
   "codemirror_mode": {
    "name": "ipython",
    "version": 3
   },
   "file_extension": ".py",
   "mimetype": "text/x-python",
   "name": "python",
   "nbconvert_exporter": "python",
   "pygments_lexer": "ipython3",
   "version": "3.9.16"
  }
 },
 "nbformat": 4,
 "nbformat_minor": 5
}
