{
 "cells": [
  {
   "cell_type": "code",
   "execution_count": 1,
   "id": "cb88b3c1-2daf-4af2-a6c0-2ad610fb53c8",
   "metadata": {
    "tags": []
   },
   "outputs": [],
   "source": [
    "from pypdf import PdfReader\n",
    "from TTS.api import TTS\n",
    "import pysbd"
   ]
  },
  {
   "cell_type": "code",
   "execution_count": 2,
   "id": "70a79336-2074-4088-b67f-e938941c4a85",
   "metadata": {
    "scrolled": true,
    "tags": []
   },
   "outputs": [
    {
     "name": "stdout",
     "output_type": "stream",
     "text": [
      " > tts_models/en/ljspeech/vits is already downloaded.\n",
      " > Using model: vits\n",
      " > Setting up Audio Processor...\n",
      " | > sample_rate:22050\n",
      " | > resample:False\n",
      " | > num_mels:80\n",
      " | > log_func:np.log10\n",
      " | > min_level_db:0\n",
      " | > frame_shift_ms:None\n",
      " | > frame_length_ms:None\n",
      " | > ref_level_db:None\n",
      " | > fft_size:1024\n",
      " | > power:None\n",
      " | > preemphasis:0.0\n",
      " | > griffin_lim_iters:None\n",
      " | > signal_norm:None\n",
      " | > symmetric_norm:None\n",
      " | > mel_fmin:0\n",
      " | > mel_fmax:None\n",
      " | > pitch_fmin:None\n",
      " | > pitch_fmax:None\n",
      " | > spec_gain:20.0\n",
      " | > stft_pad_mode:reflect\n",
      " | > max_norm:1.0\n",
      " | > clip_norm:True\n",
      " | > do_trim_silence:False\n",
      " | > trim_db:60\n",
      " | > do_sound_norm:False\n",
      " | > do_amp_to_db_linear:True\n",
      " | > do_amp_to_db_mel:True\n",
      " | > do_rms_norm:False\n",
      " | > db_level:None\n",
      " | > stats_path:None\n",
      " | > base:10\n",
      " | > hop_length:256\n",
      " | > win_length:1024\n"
     ]
    }
   ],
   "source": [
    "book = \"The-Art-of-Living-a-Meaningless-Existence-Ideas-from-Philosophy-That-Change-the-Way-You-Think-Robert-Pantano-booktree.pdf\"\n",
    "reader = PdfReader(book)\n",
    "\n",
    "# Voice Examples:\n",
    "# https://huggingface.co/spaces/coqui/CoquiTTS\n",
    "# https://youtu.be/HojuVmW5LUI?t=563\n",
    "tts = TTS(model_name=\"tts_models/en/ljspeech/vits\", progress_bar=True, gpu=False)"
   ]
  },
  {
   "cell_type": "code",
   "execution_count": null,
   "id": "da9020e5-6b9c-4efc-8784-03abadefdb60",
   "metadata": {
    "scrolled": true,
    "tags": []
   },
   "outputs": [],
   "source": [
    "def debugger(text, cm, tm, font_dict, font_size):\n",
    "    print(text)\n",
    "    print(font_dict)\n",
    "    \n",
    "# Use debugger function to find details about your chapter title text (bold, larger font size, different font, etc.)\n",
    "for num in range(0,5):\n",
    "    reader.pages[num].extract_text(visitor_text=debugger)"
   ]
  },
  {
   "cell_type": "code",
   "execution_count": 3,
   "id": "3fb0962f-77c2-460b-8023-57535978b887",
   "metadata": {
    "tags": []
   },
   "outputs": [
    {
     "name": "stdout",
     "output_type": "stream",
     "text": [
      " > Text splitted to sentences.\n",
      "['R ABOUT THE AUTHOR obert Pantano is the creator of the YouTube channel and production house known as Pursuit of Wonder, which covers similar topics of philosophy, science, and literature through short stories, guided experiences, video essays, and more.', 'youtube.com/pursuitofwonder pursuitofwonder.com']\n",
      " > Processing time: 4.115295886993408\n",
      " > Real-time factor: 0.1888323947613635\n",
      "\n",
      "1 - ABOUT THE AUTHOR\n",
      "\n",
      " > Text splitted to sentences.\n",
      "['M PREFACE y interest in philosophy started where I’d imagine it starts for most people: a dissatisfaction with what I had been told about life combined with a curiosity about what I had not.', 'I remember the feeling when I first read a collection of essays by Ralph Waldo Emerson.', 'I remember thinking  yes, this is it.', 'This is what I’ve been looking for.', 'Then the same happened with Dostoyevsky, with Camus, with Schopenhauer, with Pessoa, with Wallace, and so on.', 'Throughout my life, philosophy and literature have given me a way to confront my concerns, thoughts, questions, and doubts, without the tiptoeing and masquerading I often experienced in other areas of life and  self-development .', 'Continually, I found the earnestness of writers and thinkers providing me with a feeling of mutual respect and understanding because, for the first time, I felt I was being offered attempts at truth that were closer to my experience of life.', 'They were bold, direct, and unwavering.', 'Throughout the years, I’ve realized how common it is to feel like something is missing and that there must be more behind everything.', 'So many of us feel as though we have been given a carcass of life, of meaning, that is covered by a blanket of falsity and ignorance.', 'There is a need for a type of food that nourishes the mind and  spirit— a food that people from all around the world and at all times in history have contributed small but notable servings of in the form of philosophy  and  art .', 'As I’ve studied and learned more about these subjects, I’ve felt an increasing obligation to help provide for others what was provided to me: access to these crucial servings of intellectual sustenance.', 'I’ve felt the need to translate, share, and contribute to the conversations I have had with books, films, videos, and art, as I understand them.', 'This book is a collection of essays that have been written as part of this effort.', 'The essays originally appeared in video form on my YouTube channel, Pursuit of Wonder— but the YouTube channel was originally formed out of a book that got rejected by publishers and agents.', 'Since I couldn’t find a traditional distribution channel, I took the manuscript of the book and turned each section into videos.', 'Those videos were the beginning of the Pursuit of Wonder YouTube channel, a project that has developed and evolved into something that is beyond my ability to comprehend.', 'In full circle, I have now begun and hope to continue sharing my work in print as well as other media.', 'Pursuit of Wonder  started as a longing to relentlessly pursue my curiosity toward wonder and truth.', 'It then turned into a sense of obligation to write and create the most interesting and useful content I could, based on what I found.', 'And now, it has turned into a source of great meaning for me.', 'Through the process, I have formed a new relationship with the world in one of its greatest lights—a community of those interested in truth, in living well, and in pursuing wonder.', 'I hope you find something in this work, and in my work more broadly, that might assist in your own process of discovering meaning just the same.']\n",
      " > Processing time: 38.5702702999115\n",
      " > Real-time factor: 0.18812410416903685\n",
      "\n",
      "3 - PREFACE\n",
      "\n",
      " > Text splitted to sentences.\n",
      "['PART I: THE ESSENCE OF WONDER']\n",
      " > Processing time: 0.4584500789642334\n",
      " > Real-time factor: 0.17238786222990019\n",
      "\n",
      "4 - PART I: THE ESSENCE OF WONDER\n",
      "\n",
      " > Text splitted to sentences.\n",
      "['T he first selection of essays begins where philosophy both began in time and begins for the individual—at the intersection of wonder and meaninglessness; the point at which our curiosity meets its match in a futile, indifferent, chaotic, and absurd universe.', 'At the moment of self-consciousness and inquiry into the world, we are fated to ask questions like:  how does the world work?', 'Why does it work this way?', 'What does it mean to be me?', 'How do I deal with these questions and their seemingly unanswerable nature?', 'It is these questions that we find at the bottom of philosophy and at the top of the descent into meaninglessness—a descent that we must arguably make, because if we have already explored any of these questions or intuitions, we have already begun down this path, and it is too late to turn around and unknow what we now know.', 'And so, the key is not to stop but to continue down and onward in order to find a new ground of existence in which we can bear and live comfortably with  truth,  or the lack thereof.', 'The following essays touch on this process and how various ancient philosophies from both the East and West can be used and applied today toward living a worthwhile and meaningful life, despite life’s uncertain conditions.', 'I THE WONDER OF THE UNKNOWN n our everyday life, most things are generally considered normal and routine—a tree, a bird, a drive home from work, a meal, a load of laundry, a night’s sleep, and so on.', 'At a certain age of adolescence, most things begin to fall into the category of being rather unexciting or tedious.', 'This can, for obvious reasons, pose problems for our experience of life.', 'It can produce a frequent sense of boredom and monotony.', 'Science, religions, and philosophies often work to provide us with answers and clarity about the universe and our existence within it.', 'We seek to learn about what we, as a collective species, know about ourselves and this reality in order to improve our experience of it.', 'This can be helpful, of course, but perhaps an equally valuable and often neglected source of wisdom, joy, and vitality can be found not in what we know but in what we don’t know.', 'Nineteenth-century writer Henry David Thoreau wrote: My desire for knowledge is intermittent; but my desire to commune with the spirit of the universe, to be intoxicated with the fumes, call it, of that divine nectar, to bear my head through atmospheres and over heights unknown to my feet, is perennial and constant.', 'In other words, the experience and effects of concrete knowledge can be fleeting, but the wonder found in the spirit of the unknown can be constant and enduring.', 'With no more than a glance upward at a clear, starry night sky, as we stare into the eyes of the incomprehensible and infinite space above us, we are likely to experience an overwhelming awareness of how little we know and how little we are.', 'The universe stares back at us with its stark glare and reminds us how deeply strange and unclear our life really is, even the most simple and normal things.', 'The great cosmologist Carl Sagan said, “The Cosmos is all that is or was or ever will be. Our feeblest contemplations of the Cosmos stir us—there is a tingling in the spine, a catch in the voice, a faint sensation, as if a distant memory, of falling from a height.”', 'This feeling of awe is immensely liberating and provoking.', 'It reminds us that we stand at the crossroads of the infinite and the finite, everything and nothing, knowledge and unawareness.', 'In truth, no matter what we think we know, we are probably wrong, and no matter what anyone else thinks they know, they are probably wrong.', 'No one knows what’s going on in any fundamental sense.', 'Nothing about this life is simple or clear, and from the perspective of the stars, nothing down here on earth—including us—matters all that much to anything beyond itself.', 'Paradoxically, in this, we find great opportunity for wisdom, humility, exploration, and profound experience in our lives.', '“Nobody ever figures out what life is all about, and it   doesn’t matter. Explore the world. Nearly everything is really   interesting if you go into it deeply enough,” said renowned   theoretical physicist  Richard Feynman.', 'In even the most common and mundane things, there is complexity and strangeness.', 'We don’t even know why we sleep or dream.', 'We don’t know how most of our brain works or what']\n",
      " > Processing time: 222.91700911521912\n",
      " > Real-time factor: 0.7483557116438365\n",
      "\n",
      "6 - THE WONDER OF THE UNKNOWN\n",
      "\n",
      " > Text splitted to sentences.\n",
      "['consciousness is.', 'We don’t know if time is real in any physical sense.', 'We don’t know what gravity is or why it is.', 'We don’t know if there are infinite other universes or dimensions around us.', 'We don’t know why energy or matter even came to be in the first place—or why it was followed by a perfect sequence of colliding, combining, exploding, and emerging, all to put us here, right now, able to ask why.', 'At the base of almost everything, the resulting truth is this:  we don’t know .', 'When we disregard this unknowingness, we can easily become disinterested, uninspired, and worn out of this life.', 'We can put great stress on things that perhaps don’t matter all that much and neglect experiences and things that do.', 'We can feel the pressure and anxiety of chasing perfection and certainty, which do not exist.', 'We should look to the universe often, not solely for answers but for perspective; for a helpful adjustment and an aerial consideration of our daily life.', 'With this practice, the little things in life become more striking, the mistakes and the annoyances become less significant, the calm comes more easily, and the everyday activities of our lives that we so often view as wasteful and tedious reveal themselves to be wonderfully strange and curious parts of our existence that we should make effort to ponder and appreciate as often as we can.', 'As if to say,  I’d love to marvel at and enjoy this work of art I’ve created,  the universe gave itself humanity.', '“Through our eyes, the universe is perceiving itself. Through our ears, the universe is listening to its harmonies. We are the witnesses through which the universe becomes conscious of its glory, of its magnificence,” said twentieth-century American-British philosopher Alan Watts.', 'What a shame it would be to waste this experience by failing to appreciate the glory and magnificence found in the unknown.', 'We must try to remember as often as we can that the unknown permeates everything.', 'Its wonder is always above us, below us, around us, and inside us, whenever we need it.', 'S WHY INTELLIGENT PEOPLE BECOME PESSIMISTIC tarting from the instant we form an awareness of the world, all the way up until the final second before we die, we will without doubt experience many moments in which life goes very wrong; moments where a friend betrays us, where we make a big mistake or fail at something we worked really hard at, where someone we love decides they no longer feel the same for us or we no longer feel the same for them, moments where we lose someone close far too early, and so on.', 'From small to big, annoying to tragic, there will continue to be moments where our  self , the world, and humanity appear to all be in complete conflict and disarray.', 'At a very young age, life seems to be mostly candy, playgrounds, cartoon mice, and fun.', 'The universe feels like it is made for us.', 'Throughout childhood, things in popular culture like movies, TV shows, and advertising reinforce this hopeful optimism by selling us ideals of a life filled with easy friendships, love at first sight, exciting lifestyles, successful and fulfilling careers, and cool products that will all culminate in a perfect, smooth life.', 'Of course, as we grow further past our youthful innocence, the world increasingly reveals itself to be far more complicated and convoluted.', 'As we experience more of life, and we are continually disappointed by our optimism’s inability to align with the real conditions of the world, our optimism is beaten further and further into submission.', 'At this point, the individual is often compelled to surrender any form of naïve optimism and replace it with some degree of pessimism.', 'Arguably, any honestly examined life goes through this transition.', 'At first, this might sound rather somber and bleak, and if we stop here, it very well can be.', 'However, with the proper consideration, perhaps there is a way in which we can leverage this pessimism and use it to our advantage.', 'Perhaps there is a way through pessimism that leads to an adapted and more reasonable optimism—not the sort of delusional optimism that is ignorant to the somber truths of our condition, but rather, an optimism that exists in spite of it all.', 'Arguably, all great philosophies and religions incorporate some degree of pessimism in their foundations.', 'What reason would philosophies and religions have to exist if they did not first admit the existence of the pains, confusions, and uncertainties of life.', 'The philosophy of Stoicism suggests that the universe is indifferent to what we want from it.', 'Buddhism says that life is suffering .', 'Existentialism and Absurdism say that we are stricken by our need for meaning in a life that is inherently meaningless.', 'Christianity proclaims that the condition of humankind is inflicted with temptation and imperfection .', 'Along with many others, these schools of thought realize that life contains fundamental pessimisms.', 'However, what is powerful, important, and lasting about any good philosophy or frame of thinking is what it attempts to do with these pessimisms.', 'A helpful philosophy first realizes and admits the sad, troublesome, and often tragic conditions of our life, and then attempts to grapple with and overcome them so that we might']\n",
      " > Processing time: 65.2237958908081\n",
      " > Real-time factor: 0.1856833897187889\n",
      "\n",
      "8 - WHY INTELLIGENT PEOPLE BECOME  \n",
      " PESSIMISTIC\n",
      "\n",
      " > Text splitted to sentences.\n",
      "['live in spite of those conditions.', 'A healthy dose of pessimism is necessary in our ability to adequately deal with this life.', 'It helps us mitigate our expectations and serves as padding that protects us from life’s constant attempts to beat our spirit out of us.', 'Pessimism counterbalances the ridiculously overly optimistic expectations of the culture we live in and helps us adapt out of the deeply detached, unrealistic perspective that we likely formed as children.', 'It reminds us that things won’t always go our way or always be that nice, but rather, things will go wrong a lot, but despite this, we can still be ok.', 'Paradoxically, we must recognize that through a certain quality of pessimism, we can better arrive at a more reasonably optimistic experience of life.', 'We are all struggling and improvising our way through this strange existence, constantly confused and unsure.', 'No one is perfect or normal in any traditional sense.', 'No one knows who or why they are.', 'We all make mistakes, big and small.', 'Happiness is hard and unclear.', 'There appears to be no achievement, material item, or endgame that can solve all the problems we face as individuals or as a species.', 'There is greed, tragedy, and malevolence in this world that we have and will continue to experience.', 'And at any moment, our lives could end—this whole world and humanity could end—and at some moment, they will certainly end.', 'But despite everything that was just said, the thought of it all ending should and does make us sad and tremble with fear.', 'We don’t want it to end.', 'Despite the chaos, uncertainties, and hardships, we want to go on, we want to endure, we want to see what we can do, overcome, and experience in the face of it all.', 'In this, we find the hopeful spirit and strength of humankind.', 'We find the optimism in the pessimism.', 'This game of reality appears to have rules; some that we can understand and tamper with, most of which we cannot; some that work in our favor, plenty that do not.', 'Where these rules come from and why they are the way they are is completely and utterly unclear.', 'What is clear, however, is that at this moment, they are, and because they are, we are.', 'To be completely optimistic about the rules always working in our favor would be foolish.', 'However, to be completely pessimistic about the game as a whole simply because the rules don’t always work in our favor would be equally foolish.', 'Would a game where the rules always work in the players favor even be a game at all?', 'Of what interest would this be?', 'What experience would there be to have?', 'To give up on life entirely would be like refusing to play a game because we lose sometimes, as if the game would even be worth playing if we knew we were going to win every time we played.', 'There is courage in facing the realities of pessimism and there is strength to be formed in its name.', 'We must be pessimistic about life’s conditions in order to face their realities, but we must also be optimistic about our ability to face their realities and form strength, meaning, and experience through them.', 'Pessimism is real.', 'It is natural.', 'It is helpful.', 'But it is not all there is.', 'Like dirt is to flowers, like darkness is to light, and like silence is to song, pessimism is to optimism.', 'Rather than being optimistic about the possibility of finding things and ideas that will rid us and our lives of disorder, defectiveness, confusion, and vulnerability, perhaps we should attempt to be optimistic about the potential value that we can find in accepting and enduring these things.', 'We should be optimistic about our ability to turn the ups-and-downs into an interesting and beautiful ride.', 'In the dirt of life, it is up to us to plant the seeds, watch the flowers grow, and enjoy theirbeauty, even in spite of the fact that we know that they will die.', 'K WISDOM BEGINS WITH KNOWING YOU KNOW NOTHING The Philosophy of Socrates & Plato nown as the father of Western philosophy, the ancient Greek philosopher Socrates is regarded as one the most influential thinkers in history.', 'Encouraging and shaping the early budding of philosophy and directly inspiring other formative ancient Greek philosophers like Plato and Aristotle, Socrates would be a catalyst for the way humanity has thought and continues to think about the world and the way we live within it.', 'There are no known written works directly attributed to Socrates, so he remains a fairly mysterious figure.', 'All accounts of his life and philosophy are provided by other classical writers, many of which differ and sometimes contradict each other.', 'In historical studies, this is what is known as the Socratic problem: the fact that it is difficult, if not impossible, to fully pin down an accurate picture of what he believed.', 'However, most of what is understood and believed to be accurate is found in the work of his most famous student, Plato, who would go on to become an essential figure in Socrates’ legacy as well as for the development of Western philosophy in general, writing around thirty-six books, all comprised of dialogues primarily featuring Socrates.', 'It is generally agreed that Socrates was born in Athens in Ancient Greece in around 469 BC.', 'It is believed that his philosophical occupation began after a successful career as a stonemason and having fought with distinction in the Athenian military during the Peloponnesian war.', 'During this later, philosophically focused part of his life, Socrates spent most of his time wandering around Athens, asking lots of questions, and challenging lots of men who the public believed to be wise.', 'He would soon become very skeptical of the so-called wisdom of the time, finding that most men who claimed wisdom and were held to be wise were essentially just arrogant.', 'In Plato’s book,  Apology , Socrates has this to say about his interaction with one particular wise man: . . . conversing with him, this man seemed to me to seem to be wise to many other people and especially to himself, but not to be so; and then I tried to show him that he thought he was wise, but was not.', 'As a result, I became hateful to him and to many of those present; and so, as I went away, I thought to myself, “I am wiser than this man; for neither of us really knows anything fine and good, but this man thinks he knows something when he does not, whereas I, as I do not know anything, do not think I do either. I seem, then, in just this little thing to be wiser than this man at any rate, that what I do not know I do not think I know either.”', 'It was this that Socrates believed separated him from others of the time and defined true wisdom.', 'Arguably, he was right, as this credo would ultimately become one of the defining components of a legacy that has lasted for millennia while the philosophies of other wise men of']\n",
      " > Processing time: 11001.12104678154\n",
      " > Real-time factor: 23.87200585520808\n",
      "\n",
      "11 - WISDOM BEGINS WITH KNOWING YOU KNOW  \n",
      " NOTHING\n",
      "\n"
     ]
    }
   ],
   "source": [
    "title_parts = []\n",
    "def find_titles(text, cm, tm, font_dict, font_size):\n",
    "    # Sort out the unique details defining new chapters and titles here\n",
    "    if font_dict and font_dict['/BaseFont'] == '/AAAAAB+LiberationSans-Bold':\n",
    "        title_parts.append(text)\n",
    "\n",
    "\n",
    "current_chapter_text = ''\n",
    "chapter = 0\n",
    "for num in range(0,len(reader.pages)):\n",
    "    current_chapter_text += reader.pages[num].extract_text(visitor_text=find_titles)\n",
    "    if title_parts:\n",
    "        title = \" \".join(title_parts).strip()\n",
    "        title_parts = []\n",
    "        chapter += 1\n",
    "        \n",
    "        # remove new lines to improve sentence boundary detection\n",
    "        sanitized_text = ' '.join(current_chapter_text.split('\\n'))\n",
    "        tts.tts_to_file(text=sanitized_text, file_path=f'audio/{chapter}-{title}.wav')\n",
    "        current_chapter_text = ''\n",
    "        print()\n",
    "        print(num, '-', title, end='\\n\\n')\n"
   ]
  },
  {
   "cell_type": "code",
   "execution_count": null,
   "id": "2c47cfbe-0f66-48a1-89a4-845f65dcecb6",
   "metadata": {},
   "outputs": [],
   "source": []
  }
 ],
 "metadata": {
  "kernelspec": {
   "display_name": "read-to-me",
   "language": "python",
   "name": "read-to-me"
  },
  "language_info": {
   "codemirror_mode": {
    "name": "ipython",
    "version": 3
   },
   "file_extension": ".py",
   "mimetype": "text/x-python",
   "name": "python",
   "nbconvert_exporter": "python",
   "pygments_lexer": "ipython3",
   "version": "3.9.16"
  }
 },
 "nbformat": 4,
 "nbformat_minor": 5
}
